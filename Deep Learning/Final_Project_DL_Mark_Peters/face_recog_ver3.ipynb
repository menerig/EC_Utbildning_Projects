{
 "cells": [
  {
   "cell_type": "markdown",
   "metadata": {},
   "source": [
    "# Face Recognition Model 3"
   ]
  },
  {
   "cell_type": "code",
   "execution_count": 5,
   "metadata": {},
   "outputs": [],
   "source": [
    "import matplotlib.pyplot as plt\n",
    "import numpy as np\n",
    "import pandas as pd\n",
    "import seaborn as sns\n",
    "import os\n",
    "import keras\n",
    "\n",
    "# Importing Deep Learning Libraries\n",
    "\n",
    "from keras.preprocessing.image import load_img, img_to_array\n",
    "from keras.preprocessing.image import ImageDataGenerator\n",
    "from keras.layers import Dense,Input,Dropout,GlobalAveragePooling2D,Flatten,Conv2D,BatchNormalization,Activation,MaxPooling2D\n",
    "from keras.models import Model,Sequential\n",
    "from keras.optimizers import Adam,SGD,RMSprop"
   ]
  },
  {
   "cell_type": "code",
   "execution_count": 1,
   "metadata": {},
   "outputs": [
    {
     "name": "stdout",
     "output_type": "stream",
     "text": [
      "Current Directory: c:\\Users\\makpe\\OneDrive\\Documents\\Data Scientist\\Deep Learning\\Final_Project_DL_Oct_23\n"
     ]
    }
   ],
   "source": [
    "import os\n",
    "current_directory = os.getcwd()\n",
    "print(\"Current Directory:\", current_directory)"
   ]
  },
  {
   "cell_type": "markdown",
   "metadata": {},
   "source": [
    "## EDA"
   ]
  },
  {
   "cell_type": "code",
   "execution_count": 2,
   "metadata": {},
   "outputs": [
    {
     "name": "stdout",
     "output_type": "stream",
     "text": [
      "958 Angry images\n",
      "1024 Fear images\n",
      "1774 Happy images\n",
      "1233 Neutral images\n",
      "1247 Sad images\n",
      "831 Suprise images\n"
     ]
    }
   ],
   "source": [
    "pic_size = 48\n",
    "\n",
    "folder_path = current_directory + \"/face_recognition_dataset/\"\n",
    "\n",
    "class_names = []\n",
    "\n",
    "for expression in os.listdir(folder_path+\"Testing/Testing/\"):\n",
    "    class_names.append(expression)\n",
    "    print(str(len(os.listdir(folder_path+\"Testing/Testing/\"+expression)))+\" \"+expression+\" images\")\n",
    "    pass"
   ]
  },
  {
   "cell_type": "markdown",
   "metadata": {},
   "source": [
    "## Load Class Function"
   ]
  },
  {
   "cell_type": "code",
   "execution_count": 3,
   "metadata": {},
   "outputs": [],
   "source": [
    "def load_class(class_names, index, num_examples, mode):\n",
    "    images = []\n",
    "    class_name = class_names[index]\n",
    "    \n",
    "    TRAIN_PATH = folder_path + \"Training/Training/\" + class_name\n",
    "    TEST_PATH = folder_path + \"Testing/Testing/\" + class_name\n",
    "    PATH = ''\n",
    "    if mode == 0:\n",
    "        PATH = TRAIN_PATH\n",
    "    else:\n",
    "        PATH = TEST_PATH\n",
    "    \n",
    "    img_names = os.listdir(PATH)\n",
    "    img_names = np.random.RandomState(seed=69).permutation(img_names)\n",
    "    \n",
    "    for i in range(num_examples):\n",
    "        img = io.imread(PATH + \"/\" + img_names[i])\n",
    "        img = img.reshape([48, 48, 1])\n",
    "        images.append(img)\n",
    "\n",
    "    labels = np.empty(num_examples)\n",
    "    labels.fill(index)\n",
    "    \n",
    "    return np.array(images), keras.utils.to_categorical(labels, len(class_names), dtype=int)"
   ]
  },
  {
   "cell_type": "code",
   "execution_count": 28,
   "metadata": {},
   "outputs": [],
   "source": [
    "from skimage import io\n",
    "\n",
    "data_train = []\n",
    "label_train = []\n",
    "for i in range(len(class_names)):\n",
    "    data_part, label_part = load_class(class_names, i, 3000, 0)\n",
    "    data_train.extend(data_part)\n",
    "    label_train.extend(label_part)\n",
    "    \n",
    "X_train = np.array(data_train)\n",
    "y_train = np.array(label_train)"
   ]
  },
  {
   "cell_type": "code",
   "execution_count": 30,
   "metadata": {},
   "outputs": [],
   "source": [
    "data_test = []\n",
    "label_test = []\n",
    "for i in range(len(class_names)):\n",
    "    data_part, label_part = load_class(class_names, i, 800, 1)\n",
    "    data_test.extend(data_part)\n",
    "    label_test.extend(label_part)\n",
    "    \n",
    "X_test = np.array(data_test)\n",
    "y_test = np.array(label_test)"
   ]
  },
  {
   "cell_type": "markdown",
   "metadata": {},
   "source": [
    "## Image Preprocessing"
   ]
  },
  {
   "cell_type": "code",
   "execution_count": 18,
   "metadata": {},
   "outputs": [],
   "source": [
    "batch_size = 128\n",
    "\n",
    "datagen_train = ImageDataGenerator(rescale= 1/255., \n",
    "                             horizontal_flip= True, \n",
    "                             rotation_range=30, \n",
    "                             width_shift_range=0.1, \n",
    "                             height_shift_range=0.1, \n",
    "                             shear_range=0.2,\n",
    "                             zoom_range=0.2, \n",
    "                             fill_mode='nearest')\n",
    "\n",
    "datagen_test = ImageDataGenerator(rescale= 1/255.)\n",
    "\n",
    "train_generator = datagen_train.flow(X_train, y_train, batch_size = 64, shuffle = True, seed = 69)\n",
    "\n",
    "val_generator = datagen_test.flow(X_test, y_test, batch_size = 64, shuffle = True, seed = 69)"
   ]
  },
  {
   "cell_type": "markdown",
   "metadata": {},
   "source": [
    "## Build the Model"
   ]
  },
  {
   "cell_type": "code",
   "execution_count": 10,
   "metadata": {},
   "outputs": [
    {
     "name": "stderr",
     "output_type": "stream",
     "text": [
      "WARNING:absl:`lr` is deprecated in Keras optimizer, please use `learning_rate` or use the legacy optimizer, e.g.,tf.keras.optimizers.legacy.Adam.\n"
     ]
    },
    {
     "name": "stdout",
     "output_type": "stream",
     "text": [
      "Model: \"sequential\"\n",
      "_________________________________________________________________\n",
      " Layer (type)                Output Shape              Param #   \n",
      "=================================================================\n",
      " conv2d (Conv2D)             (None, 48, 48, 64)        640       \n",
      "                                                                 \n",
      " batch_normalization (Batch  (None, 48, 48, 64)        256       \n",
      " Normalization)                                                  \n",
      "                                                                 \n",
      " activation (Activation)     (None, 48, 48, 64)        0         \n",
      "                                                                 \n",
      " max_pooling2d (MaxPooling2  (None, 24, 24, 64)        0         \n",
      " D)                                                              \n",
      "                                                                 \n",
      " dropout (Dropout)           (None, 24, 24, 64)        0         \n",
      "                                                                 \n",
      " conv2d_1 (Conv2D)           (None, 24, 24, 128)       204928    \n",
      "                                                                 \n",
      " batch_normalization_1 (Bat  (None, 24, 24, 128)       512       \n",
      " chNormalization)                                                \n",
      "                                                                 \n",
      " activation_1 (Activation)   (None, 24, 24, 128)       0         \n",
      "                                                                 \n",
      " max_pooling2d_1 (MaxPoolin  (None, 12, 12, 128)       0         \n",
      " g2D)                                                            \n",
      "                                                                 \n",
      " dropout_1 (Dropout)         (None, 12, 12, 128)       0         \n",
      "                                                                 \n",
      " conv2d_2 (Conv2D)           (None, 12, 12, 512)       590336    \n",
      "                                                                 \n",
      " batch_normalization_2 (Bat  (None, 12, 12, 512)       2048      \n",
      " chNormalization)                                                \n",
      "                                                                 \n",
      " activation_2 (Activation)   (None, 12, 12, 512)       0         \n",
      "                                                                 \n",
      " max_pooling2d_2 (MaxPoolin  (None, 6, 6, 512)         0         \n",
      " g2D)                                                            \n",
      "                                                                 \n",
      " dropout_2 (Dropout)         (None, 6, 6, 512)         0         \n",
      "                                                                 \n",
      " conv2d_3 (Conv2D)           (None, 6, 6, 512)         2359808   \n",
      "                                                                 \n",
      " batch_normalization_3 (Bat  (None, 6, 6, 512)         2048      \n",
      " chNormalization)                                                \n",
      "                                                                 \n",
      " activation_3 (Activation)   (None, 6, 6, 512)         0         \n",
      "                                                                 \n",
      " max_pooling2d_3 (MaxPoolin  (None, 3, 3, 512)         0         \n",
      " g2D)                                                            \n",
      "                                                                 \n",
      " dropout_3 (Dropout)         (None, 3, 3, 512)         0         \n",
      "                                                                 \n",
      " flatten (Flatten)           (None, 4608)              0         \n",
      "                                                                 \n",
      " dense (Dense)               (None, 256)               1179904   \n",
      "                                                                 \n",
      " batch_normalization_4 (Bat  (None, 256)               1024      \n",
      " chNormalization)                                                \n",
      "                                                                 \n",
      " activation_4 (Activation)   (None, 256)               0         \n",
      "                                                                 \n",
      " dropout_4 (Dropout)         (None, 256)               0         \n",
      "                                                                 \n",
      " dense_1 (Dense)             (None, 512)               131584    \n",
      "                                                                 \n",
      " batch_normalization_5 (Bat  (None, 512)               2048      \n",
      " chNormalization)                                                \n",
      "                                                                 \n",
      " activation_5 (Activation)   (None, 512)               0         \n",
      "                                                                 \n",
      " dropout_5 (Dropout)         (None, 512)               0         \n",
      "                                                                 \n",
      " dense_2 (Dense)             (None, 6)                 3078      \n",
      "                                                                 \n",
      "=================================================================\n",
      "Total params: 4478214 (17.08 MB)\n",
      "Trainable params: 4474246 (17.07 MB)\n",
      "Non-trainable params: 3968 (15.50 KB)\n",
      "_________________________________________________________________\n"
     ]
    }
   ],
   "source": [
    "from keras.optimizers import Adam,SGD,RMSprop\n",
    "\n",
    "no_of_classes = 6\n",
    "\n",
    "model = Sequential()\n",
    "\n",
    "#1st CNN layer\n",
    "model.add(Conv2D(64,(3,3),padding = 'same',input_shape = (48,48,1)))\n",
    "model.add(BatchNormalization())\n",
    "model.add(Activation('relu'))\n",
    "model.add(MaxPooling2D(pool_size = (2,2)))\n",
    "model.add(Dropout(0.25))\n",
    "\n",
    "#2nd CNN layer\n",
    "model.add(Conv2D(128,(5,5),padding = 'same'))\n",
    "model.add(BatchNormalization())\n",
    "model.add(Activation('relu'))\n",
    "model.add(MaxPooling2D(pool_size = (2,2)))\n",
    "model.add(Dropout (0.25))\n",
    "\n",
    "#3rd CNN layer\n",
    "model.add(Conv2D(512,(3,3),padding = 'same'))\n",
    "model.add(BatchNormalization())\n",
    "model.add(Activation('relu'))\n",
    "model.add(MaxPooling2D(pool_size = (2,2)))\n",
    "model.add(Dropout (0.25))\n",
    "\n",
    "#4th CNN layer\n",
    "model.add(Conv2D(512,(3,3), padding='same'))\n",
    "model.add(BatchNormalization())\n",
    "model.add(Activation('relu'))\n",
    "model.add(MaxPooling2D(pool_size=(2, 2)))\n",
    "model.add(Dropout(0.25))\n",
    "\n",
    "model.add(Flatten())\n",
    "\n",
    "#Fully connected 1st layer\n",
    "model.add(Dense(256))\n",
    "model.add(BatchNormalization())\n",
    "model.add(Activation('relu'))\n",
    "model.add(Dropout(0.25))\n",
    "\n",
    "\n",
    "# Fully connected layer 2nd layer\n",
    "model.add(Dense(512))\n",
    "model.add(BatchNormalization())\n",
    "model.add(Activation('relu'))\n",
    "model.add(Dropout(0.25))\n",
    "\n",
    "model.add(Dense(no_of_classes, activation='softmax'))\n",
    "\n",
    "\n",
    "\n",
    "opt = Adam(lr = 0.0001)\n",
    "model.compile(optimizer=opt,loss='categorical_crossentropy', metrics=['accuracy'])\n",
    "model.summary()"
   ]
  },
  {
   "cell_type": "markdown",
   "metadata": {},
   "source": [
    "## Callback List"
   ]
  },
  {
   "cell_type": "code",
   "execution_count": 36,
   "metadata": {},
   "outputs": [],
   "source": [
    "from keras.optimizers import RMSprop,SGD,Adam\n",
    "from keras.callbacks import ModelCheckpoint, EarlyStopping, ReduceLROnPlateau\n",
    "\n",
    "checkpoint = ModelCheckpoint(\"./face_rec.h5\", monitor='val_accuracy', verbose=1, save_best_only=True, mode='max')\n",
    "\n",
    "early_stopping = EarlyStopping(monitor='val_loss',\n",
    "                          min_delta=0.00005,\n",
    "                          patience=8,\n",
    "                          verbose=1,\n",
    "                          restore_best_weights=True\n",
    "                          )\n",
    "\n",
    "reduce_learningrate = ReduceLROnPlateau(monitor='val_loss',\n",
    "                              factor=0.2,\n",
    "                              patience=3,\n",
    "                              verbose=1,\n",
    "                              min_delta=0.0001)\n",
    "\n",
    "callbacks_list = [early_stopping,checkpoint,reduce_learningrate]\n",
    "\n",
    "epochs = 48\n",
    "\n",
    "optimizer=RMSprop(learning_rate=0.001)\n",
    "model.compile(optimizer=opt,loss='categorical_crossentropy', metrics=['accuracy'])"
   ]
  },
  {
   "cell_type": "markdown",
   "metadata": {},
   "source": [
    "## Fit the Model"
   ]
  },
  {
   "cell_type": "code",
   "execution_count": 39,
   "metadata": {},
   "outputs": [
    {
     "name": "stdout",
     "output_type": "stream",
     "text": [
      "Epoch 1/48\n",
      "40/40 [==============================] - ETA: 0s - loss: 1.0301 - accuracy: 0.5893\n",
      "Epoch 1: val_accuracy did not improve from 0.57879\n",
      "40/40 [==============================] - 30s 757ms/step - loss: 1.0301 - accuracy: 0.5893 - val_loss: 1.1354 - val_accuracy: 0.5682 - lr: 3.2000e-07\n",
      "Epoch 2/48\n",
      "40/40 [==============================] - ETA: 0s - loss: 1.0396 - accuracy: 0.5968\n",
      "Epoch 2: val_accuracy did not improve from 0.57879\n",
      "40/40 [==============================] - 31s 780ms/step - loss: 1.0396 - accuracy: 0.5968 - val_loss: 1.1360 - val_accuracy: 0.5697 - lr: 3.2000e-07\n",
      "Epoch 3/48\n",
      "40/40 [==============================] - ETA: 0s - loss: 1.0464 - accuracy: 0.5897\n",
      "Epoch 3: val_accuracy did not improve from 0.57879\n",
      "40/40 [==============================] - 32s 805ms/step - loss: 1.0464 - accuracy: 0.5897 - val_loss: 1.1366 - val_accuracy: 0.5697 - lr: 3.2000e-07\n",
      "Epoch 4/48\n",
      "40/40 [==============================] - ETA: 0s - loss: 1.0210 - accuracy: 0.6036\n",
      "Epoch 4: val_accuracy did not improve from 0.57879\n",
      "\n",
      "Epoch 4: ReduceLROnPlateau reducing learning rate to 6.400000529538374e-08.\n",
      "40/40 [==============================] - 32s 807ms/step - loss: 1.0210 - accuracy: 0.6036 - val_loss: 1.1380 - val_accuracy: 0.5697 - lr: 3.2000e-07\n",
      "Epoch 5/48\n",
      "40/40 [==============================] - ETA: 0s - loss: 1.0378 - accuracy: 0.6044\n",
      "Epoch 5: val_accuracy did not improve from 0.57879\n",
      "40/40 [==============================] - 33s 837ms/step - loss: 1.0378 - accuracy: 0.6044 - val_loss: 1.1384 - val_accuracy: 0.5697 - lr: 6.4000e-08\n",
      "Epoch 6/48\n",
      "40/40 [==============================] - ETA: 0s - loss: 1.0468 - accuracy: 0.6052\n",
      "Epoch 6: val_accuracy did not improve from 0.57879\n",
      "40/40 [==============================] - 33s 834ms/step - loss: 1.0468 - accuracy: 0.6052 - val_loss: 1.1387 - val_accuracy: 0.5697 - lr: 6.4000e-08\n",
      "Epoch 7/48\n",
      "40/40 [==============================] - ETA: 0s - loss: 1.0325 - accuracy: 0.6075\n",
      "Epoch 7: val_accuracy did not improve from 0.57879\n",
      "\n",
      "Epoch 7: ReduceLROnPlateau reducing learning rate to 1.2800001059076749e-08.\n",
      "40/40 [==============================] - 34s 846ms/step - loss: 1.0325 - accuracy: 0.6075 - val_loss: 1.1379 - val_accuracy: 0.5697 - lr: 6.4000e-08\n",
      "Epoch 8/48\n",
      "40/40 [==============================] - ETA: 0s - loss: 1.0551 - accuracy: 0.5877\n",
      "Epoch 8: val_accuracy did not improve from 0.57879\n",
      "40/40 [==============================] - 34s 847ms/step - loss: 1.0551 - accuracy: 0.5877 - val_loss: 1.1384 - val_accuracy: 0.5727 - lr: 1.2800e-08\n",
      "Epoch 9/48\n",
      "40/40 [==============================] - ETA: 0s - loss: 1.0443 - accuracy: 0.6040Restoring model weights from the end of the best epoch: 1.\n",
      "\n",
      "Epoch 9: val_accuracy did not improve from 0.57879\n",
      "40/40 [==============================] - 34s 845ms/step - loss: 1.0443 - accuracy: 0.6040 - val_loss: 1.1394 - val_accuracy: 0.5712 - lr: 1.2800e-08\n",
      "Epoch 9: early stopping\n"
     ]
    }
   ],
   "source": [
    "history = model.fit(train_generator,\n",
    "                    epochs=epochs,\n",
    "                    validation_data = val_generator,\n",
    "                    callbacks=callbacks_list\n",
    "                    )"
   ]
  }
 ],
 "metadata": {
  "kernelspec": {
   "display_name": "Machine_Learning-2CwZjeYm",
   "language": "python",
   "name": "python3"
  },
  "language_info": {
   "codemirror_mode": {
    "name": "ipython",
    "version": 3
   },
   "file_extension": ".py",
   "mimetype": "text/x-python",
   "name": "python",
   "nbconvert_exporter": "python",
   "pygments_lexer": "ipython3",
   "version": "3.11.1"
  },
  "orig_nbformat": 4
 },
 "nbformat": 4,
 "nbformat_minor": 2
}
