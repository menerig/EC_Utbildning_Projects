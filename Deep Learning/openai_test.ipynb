{
 "cells": [
  {
   "cell_type": "code",
   "execution_count": 1,
   "metadata": {},
   "outputs": [
    {
     "name": "stdout",
     "output_type": "stream",
     "text": [
      "Collecting openai\n",
      "  Downloading openai-0.28.0-py3-none-any.whl (76 kB)\n",
      "     ---------------------------------------- 0.0/76.5 kB ? eta -:--:--\n",
      "     ---------------------------------------- 76.5/76.5 kB 4.1 MB/s eta 0:00:00\n",
      "Requirement already satisfied: requests>=2.20 in c:\\users\\makpe\\.virtualenvs\\machine_learning-2cwzjeym\\lib\\site-packages (from openai) (2.31.0)\n",
      "Collecting tqdm\n",
      "  Using cached tqdm-4.66.1-py3-none-any.whl (78 kB)\n",
      "Collecting aiohttp\n",
      "  Using cached aiohttp-3.8.5-cp311-cp311-win_amd64.whl (320 kB)\n",
      "Requirement already satisfied: charset-normalizer<4,>=2 in c:\\users\\makpe\\.virtualenvs\\machine_learning-2cwzjeym\\lib\\site-packages (from requests>=2.20->openai) (3.2.0)\n",
      "Requirement already satisfied: idna<4,>=2.5 in c:\\users\\makpe\\.virtualenvs\\machine_learning-2cwzjeym\\lib\\site-packages (from requests>=2.20->openai) (3.4)\n",
      "Requirement already satisfied: urllib3<3,>=1.21.1 in c:\\users\\makpe\\.virtualenvs\\machine_learning-2cwzjeym\\lib\\site-packages (from requests>=2.20->openai) (1.26.16)\n",
      "Requirement already satisfied: certifi>=2017.4.17 in c:\\users\\makpe\\.virtualenvs\\machine_learning-2cwzjeym\\lib\\site-packages (from requests>=2.20->openai) (2023.7.22)\n",
      "Collecting attrs>=17.3.0\n",
      "  Using cached attrs-23.1.0-py3-none-any.whl (61 kB)\n",
      "Collecting multidict<7.0,>=4.5\n",
      "  Using cached multidict-6.0.4-cp311-cp311-win_amd64.whl (28 kB)\n",
      "Collecting async-timeout<5.0,>=4.0.0a3\n",
      "  Using cached async_timeout-4.0.3-py3-none-any.whl (5.7 kB)\n",
      "Collecting yarl<2.0,>=1.0\n",
      "  Using cached yarl-1.9.2-cp311-cp311-win_amd64.whl (60 kB)\n",
      "Collecting frozenlist>=1.1.1\n",
      "  Using cached frozenlist-1.4.0-cp311-cp311-win_amd64.whl (44 kB)\n",
      "Collecting aiosignal>=1.1.2\n",
      "  Using cached aiosignal-1.3.1-py3-none-any.whl (7.6 kB)\n",
      "Requirement already satisfied: colorama in c:\\users\\makpe\\.virtualenvs\\machine_learning-2cwzjeym\\lib\\site-packages (from tqdm->openai) (0.4.6)\n",
      "Installing collected packages: tqdm, multidict, frozenlist, attrs, async-timeout, yarl, aiosignal, aiohttp, openai\n",
      "Successfully installed aiohttp-3.8.5 aiosignal-1.3.1 async-timeout-4.0.3 attrs-23.1.0 frozenlist-1.4.0 multidict-6.0.4 openai-0.28.0 tqdm-4.66.1 yarl-1.9.2\n",
      "Note: you may need to restart the kernel to use updated packages.\n"
     ]
    },
    {
     "name": "stderr",
     "output_type": "stream",
     "text": [
      "\n",
      "[notice] A new release of pip is available: 23.0.1 -> 23.2.1\n",
      "[notice] To update, run: python.exe -m pip install --upgrade pip\n"
     ]
    }
   ],
   "source": [
    "pip install openai"
   ]
  },
  {
   "cell_type": "code",
   "execution_count": 2,
   "metadata": {},
   "outputs": [],
   "source": [
    "import openai\n",
    "from openai_api_key import OPENAI_API_KEY"
   ]
  },
  {
   "cell_type": "code",
   "execution_count": 3,
   "metadata": {},
   "outputs": [],
   "source": [
    "# Replace YOUR_API_KEY with your OpenAI API key\n",
    "openai.api_key = OPENAI_API_KEY"
   ]
  },
  {
   "cell_type": "code",
   "execution_count": 6,
   "metadata": {},
   "outputs": [],
   "source": [
    "# Set the model and prompt\n",
    "model_engine = \"text-davinci-003\"\n",
    "prompt = \"Write a blog on ChatGPT\"\n",
    "max_tokens = 1500"
   ]
  },
  {
   "cell_type": "code",
   "execution_count": 7,
   "metadata": {},
   "outputs": [
    {
     "name": "stdout",
     "output_type": "stream",
     "text": [
      "\n",
      "\n",
      "ChatGPT is a new artificial intelligence technology that is revolutionizing the way people communicate with each other. ChatGPT is a chatbot that can understand natural language and respond in a conversational manner. It is powered by a powerful machine learning algorithm that can learn from conversations and generate responses that are tailored to the context of the conversation.\n",
      "\n",
      "ChatGPT is a great tool for businesses as it can automate customer service tasks, such as answering FAQs and providing product recommendations. It can also be used to engage customers in a more natural way, as it can generate personalized responses that are tailored to the customer's individual needs. This makes it easier for businesses to provide a better customer experience and build relationships with their customers.\n",
      "\n",
      "ChatGPT can also be used to automate the process of customer engagement. By analyzing customer conversations, it can detect customer sentiment and provide personalized recommendations based on their interests. This allows businesses to provide a more personalized experience to their customers, which can help to increase customer loyalty and sales.\n",
      "\n",
      "ChatGPT is also being used in the healthcare industry. It can be used to provide medical advice to patients and help them manage their health. It can also be used to provide personalized health advice and provide personalized recommendations for treatments and medications. This can help to reduce the burden on healthcare professionals and provide better care for patients.\n",
      "\n",
      "Overall, ChatGPT is an exciting new technology that is revolutionizing the way people communicate and interact with each other. It is a powerful tool for businesses to automate customer service tasks and engage customers in a more natural way. It can also be used in the healthcare industry to provide personalized advice and recommendations for patients.\n"
     ]
    }
   ],
   "source": [
    "# Generate a response\n",
    "completion = openai.Completion.create(\n",
    "    engine=model_engine,\n",
    "    prompt=prompt,\n",
    "    max_tokens=max_tokens,\n",
    "    temperature=0.5,\n",
    "    top_p=1,\n",
    "    frequency_penalty=0,\n",
    "    presence_penalty=0\n",
    ")\n",
    "# Print the response\n",
    "print(completion.choices[0].text)"
   ]
  }
 ],
 "metadata": {
  "kernelspec": {
   "display_name": "Machine_Learning-2CwZjeYm",
   "language": "python",
   "name": "python3"
  },
  "language_info": {
   "codemirror_mode": {
    "name": "ipython",
    "version": 3
   },
   "file_extension": ".py",
   "mimetype": "text/x-python",
   "name": "python",
   "nbconvert_exporter": "python",
   "pygments_lexer": "ipython3",
   "version": "3.11.1"
  },
  "orig_nbformat": 4
 },
 "nbformat": 4,
 "nbformat_minor": 2
}
